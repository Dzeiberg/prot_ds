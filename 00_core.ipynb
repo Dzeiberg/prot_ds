{
 "cells": [
  {
   "cell_type": "markdown",
   "metadata": {},
   "source": [
    "# Overview\n",
    "\n",
    "> Overview of Steps for Dataset Development"
   ]
  },
  {
   "cell_type": "code",
   "execution_count": null,
   "metadata": {},
   "outputs": [],
   "source": [
    "#| default_exp core"
   ]
  },
  {
   "cell_type": "code",
   "execution_count": null,
   "metadata": {},
   "outputs": [],
   "source": [
    "#| hide\n",
    "from nbdev.showdoc import *"
   ]
  },
  {
   "cell_type": "markdown",
   "metadata": {},
   "source": [
    "## List of Genes\n",
    "Acquire a list of genes for which we will be collecting variants"
   ]
  },
  {
   "cell_type": "code",
   "execution_count": null,
   "metadata": {},
   "outputs": [],
   "source": [
    "import pandas as pd"
   ]
  },
  {
   "cell_type": "markdown",
   "metadata": {},
   "source": [
    "### Download Dependency File\n",
    "Download [this](http://ftp.ensembl.org/pub/release-107/gtf/homo_sapiens/Homo_sapiens.GRCh38.107.chr.gtf.gz) file and place in `data/ensembl/ensembl/pub/release-107/gtf/homo_sapiens/`"
   ]
  },
  {
   "cell_type": "code",
   "execution_count": null,
   "metadata": {},
   "outputs": [],
   "source": [
    "gtf = pd.read_csv(\"data/ensembl/ensembl/pub/release-107/gtf/homo_sapiens/Homo_sapiens.GRCh38.107.gtf\",\n",
    "           delimiter=\"\\t\",comment=\"#\",header=None)"
   ]
  },
  {
   "cell_type": "code",
   "execution_count": null,
   "metadata": {},
   "outputs": [],
   "source": [
    "gtf.columns = [\"chr\", \"source\",\"type\", \"start\", \"end\",\"score\",\"strand\",\n",
    "              \"phase\", \"info\"]"
   ]
  },
  {
   "cell_type": "code",
   "execution_count": null,
   "metadata": {},
   "outputs": [],
   "source": [
    "gtf.head()"
   ]
  },
  {
   "cell_type": "code",
   "execution_count": null,
   "metadata": {},
   "outputs": [],
   "source": [
    "parseinfo = lambda cell: dict([i.strip().split('\"')[:-1] for i in cell.split(\";\")][:-1])"
   ]
  },
  {
   "cell_type": "code",
   "execution_count": null,
   "metadata": {},
   "outputs": [],
   "source": [
    "genes = pd.DataFrame.from_records(gtf[gtf.type == \"gene\"][\"info\"].apply(parseinfo))\n",
    "\n",
    "genes.columns = [g.strip() for g in genes.columns]"
   ]
  },
  {
   "cell_type": "code",
   "execution_count": null,
   "metadata": {},
   "outputs": [],
   "source": [
    "coding_genes = genes[genes[\"gene_biotype\"] == \"protein_coding\"]"
   ]
  },
  {
   "cell_type": "code",
   "execution_count": null,
   "metadata": {},
   "outputs": [],
   "source": [
    "coding_genes"
   ]
  },
  {
   "cell_type": "markdown",
   "metadata": {},
   "source": [
    "## Query Variants for Each Gene\n",
    "> We will use [myvariant.info](myvariant.info) to query databases for variants of interest"
   ]
  },
  {
   "cell_type": "code",
   "execution_count": null,
   "metadata": {},
   "outputs": [],
   "source": [
    "import requests"
   ]
  },
  {
   "cell_type": "code",
   "execution_count": null,
   "metadata": {},
   "outputs": [],
   "source": [
    "import json"
   ]
  },
  {
   "cell_type": "code",
   "execution_count": null,
   "metadata": {},
   "outputs": [],
   "source": [
    "from easydict import EasyDict"
   ]
  },
  {
   "cell_type": "markdown",
   "metadata": {},
   "source": [
    "Below is an example query to [myvariant.info](myvariant.info) for all missense variants for the gene `ATAD3B`"
   ]
  },
  {
   "cell_type": "code",
   "execution_count": null,
   "metadata": {},
   "outputs": [],
   "source": [
    "#| export\n",
    "def queryGene(ensg,missenseOnly=True):\n",
    "    \"\"\"\n",
    "    Query myvariant.info for all results relevant to the given ensembl gene id\n",
    "    \n",
    "    Required Arguments:\n",
    "    - ensg : Ensembl Gene ID (e.g. ENSG00000160072)\n",
    "    \n",
    "    Optional Arugments:\n",
    "    - missenseOnly : default True : whether to query only missense variants\n",
    "    \"\"\"\n",
    "    q = f\"cadd.gene.gene_id:{ensg}\"\n",
    "    if missenseOnly:\n",
    "        q += \"%20AND%20cadd.consdetail:missense\"\n",
    "    r = requests.get(f'https://myvariant.info/v1/query?q={q}&fetch_all=TRUE')\n",
    "    if not r.status_code == 200:\n",
    "        raise ValueError()\n",
    "    queryResult = EasyDict(json.loads(r.text))\n",
    "    queries = []\n",
    "    querySucceeded = lambda q: (\"success\" not in q or q.success)\n",
    "    while \"_scroll_id\" in queryResult and querySucceeded(queryResult):\n",
    "        r = requests.get(f'https://myvariant.info/v1/query?scroll_id={queryResult._scroll_id}')\n",
    "        queries.append(queryResult)\n",
    "        if not r.status_code == 200:\n",
    "            raise ValueError()\n",
    "        queryResult = EasyDict(json.loads(r.text))\n",
    "    if querySucceeded(queryResult):\n",
    "        queries.append(queryResult)\n",
    "    return queries"
   ]
  },
  {
   "cell_type": "code",
   "execution_count": null,
   "metadata": {},
   "outputs": [],
   "source": [
    "results = queryGene(coding_genes.loc[0,\"gene_id\"])"
   ]
  },
  {
   "cell_type": "code",
   "execution_count": null,
   "metadata": {},
   "outputs": [],
   "source": [
    "len(results)"
   ]
  },
  {
   "cell_type": "code",
   "execution_count": null,
   "metadata": {},
   "outputs": [],
   "source": [
    "sum([len(r.hits) for r in results])"
   ]
  },
  {
   "cell_type": "markdown",
   "metadata": {},
   "source": [
    "Below is an example of the minimum information we need to construct a variant sequence. We can query ensembl for the reference sequence then make the change indicated by the variant"
   ]
  },
  {
   "cell_type": "code",
   "execution_count": null,
   "metadata": {},
   "outputs": [],
   "source": [
    "results[-1].hits[0].dbnsfp.aa, results[-1].hits[0].dbnsfp.ensembl.transcriptid"
   ]
  },
  {
   "cell_type": "code",
   "execution_count": null,
   "metadata": {},
   "outputs": [],
   "source": []
  }
 ],
 "metadata": {
  "language_info": {
   "name": "python",
   "pygments_lexer": "ipython3"
  }
 },
 "nbformat": 4,
 "nbformat_minor": 4
}
